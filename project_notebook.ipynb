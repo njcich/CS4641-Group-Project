{
 "cells": [
  {
   "cell_type": "code",
   "execution_count": 22,
   "metadata": {},
   "outputs": [],
   "source": [
    "#### CS 4641 Group 2 Project helper functions\n",
    "#### contributor: Zack Vogel (dvogel3\n",
    "\n",
    "import pandas as pd\n",
    "from sklearn.cluster import KMeans\n",
    "import numpy as np\n",
    "\n",
    "\n",
    "\n",
    "#########################################################\n",
    "#helper functions for data cleaning, import, export, etc.\n",
    "#########################################################\n",
    "\n",
    "##load_csv function takes in a csv file path and loads it into pandas dataframe; fills in N/A values with 0\n",
    "## Args: csv_file_path = file path as string to csv (i.e. \"data.csv\")\n",
    "def load_csv(csv_file_path):\n",
    "    df = pd.read_csv(csv_file_path)\n",
    "    df.fillna(0)\n",
    "    return df\n",
    "\n",
    "\n",
    "### The export_to_csv function takes in a pandas dataframe and exports it to csv file in your local directory\n",
    "## Args: df = pandas dataframe with data\n",
    "##       file_name = the name of the csv file you wish to send the dataframe to (i.e. \"data.csv\");\n",
    "##                   sends to local directory\n",
    "##       index     = row names as a list of strings; default is None\n",
    "##       header    = column names; default is True that column names exist\n",
    "def export_to_csv(df, file_name, index=None, header = True):\n",
    "    export = df.to_csv(file_name, index, header)\n",
    "    print(\"Export to \" + file_name + \" Complete\")\n",
    "\n",
    "\n",
    "## Example visualization of pandas dataframe with histogram; histogram based on columns\n",
    "## Args: df = pandas dataframe\n",
    "##       bins = number of bins for histogram\n",
    "##       cols = list of column labels you want to visualize\n",
    "##       Will plot subplots of different histograms per column label\n",
    "def viz_histogram(df, bins, cols):\n",
    "\n",
    "    df.columns[cols].diff.hist(bins)\n",
    "\n",
    "    print(\"Visualization Complete\")\n",
    "\n",
    "\n"
   ]
  },
  {
   "cell_type": "code",
   "execution_count": 23,
   "metadata": {},
   "outputs": [
    {
     "name": "stdout",
     "output_type": "stream",
     "text": [
      "                           Id  country_id  Human Development Index HDI-2014  \\\n",
      "0                      Norway           1                          0.943877   \n",
      "1                   Australia           2                          0.934958   \n",
      "2                 Switzerland           3                          0.929613   \n",
      "3                     Denmark           4                          0.923328   \n",
      "4                 Netherlands           5                          0.921794   \n",
      "..                        ...         ...                               ...   \n",
      "183                   Burundi         184                          0.399928   \n",
      "184                      Chad         185                          0.391906   \n",
      "185                   Eritrea         186                          0.390899   \n",
      "186  Central African Republic         187                          0.350131   \n",
      "187                     Niger         188                          0.348254   \n",
      "\n",
      "     Gini coefficient 2005-2013  \\\n",
      "0                         26.83   \n",
      "1                         34.01   \n",
      "2                         32.35   \n",
      "3                         26.88   \n",
      "4                         28.87   \n",
      "..                          ...   \n",
      "183                       33.27   \n",
      "184                       43.30   \n",
      "185                       36.75   \n",
      "186                       56.30   \n",
      "187                       31.16   \n",
      "\n",
      "     Adolescent birth rate 15-19 per 100k 20102015  \\\n",
      "0                                            7.834   \n",
      "1                                           12.059   \n",
      "2                                            1.900   \n",
      "3                                            5.101   \n",
      "4                                            6.165   \n",
      "..                                             ...   \n",
      "183                                         30.256   \n",
      "184                                        152.015   \n",
      "185                                         65.280   \n",
      "186                                         98.334   \n",
      "187                                        204.789   \n",
      "\n",
      "     Carbon dioxide emissionsAverage annual growth  \\\n",
      "0                                         0.778925   \n",
      "1                                         1.090351   \n",
      "2                                        -1.101254   \n",
      "3                                        -1.767733   \n",
      "4                                        -0.252734   \n",
      "..                                             ...   \n",
      "183                                       0.630172   \n",
      "184                                       0.861268   \n",
      "185                                       2.709607   \n",
      "186                                      -1.829932   \n",
      "187                                       1.835631   \n",
      "\n",
      "     Carbon dioxide emissions per capita 2011 Tones  \\\n",
      "0                                          9.192879   \n",
      "1                                         16.519210   \n",
      "2                                          4.625230   \n",
      "3                                          7.248329   \n",
      "4                                         10.064490   \n",
      "..                                              ...   \n",
      "183                                        0.021909   \n",
      "184                                        0.044623   \n",
      "185                                        0.087768   \n",
      "186                                        0.064475   \n",
      "187                                        0.086170   \n",
      "\n",
      "     Change forest percentable 1900 to 2012  Consumer price index 2013  \\\n",
      "0                                 11.914567                 104.194175   \n",
      "1                                 -4.561812                 107.789440   \n",
      "2                                  8.567416                  99.317229   \n",
      "3                                 23.029974                 106.057719   \n",
      "4                                  5.922602                 107.474154   \n",
      "..                                      ...                        ...   \n",
      "183                              -41.730104                 140.018625   \n",
      "184                              -13.298246                 109.954331   \n",
      "185                               -6.033313                 113.652667   \n",
      "186                               -2.835840                 108.757088   \n",
      "187                              -39.372751                 105.786143   \n",
      "\n",
      "     Domestic food price level 2009 2014 index  ...  \\\n",
      "0                                     1.510000  ...   \n",
      "1                                     1.360000  ...   \n",
      "2                                     1.350000  ...   \n",
      "3                                     1.310000  ...   \n",
      "4                                     1.380000  ...   \n",
      "..                                         ...  ...   \n",
      "183                                   7.040000  ...   \n",
      "184                                   8.030000  ...   \n",
      "185                                   4.113333  ...   \n",
      "186                                   5.990000  ...   \n",
      "187                                   7.240000  ...   \n",
      "\n",
      "     Prison population per 100k people  \\\n",
      "0                                 72.0   \n",
      "1                                130.0   \n",
      "2                                 82.0   \n",
      "3                                 73.0   \n",
      "4                                 82.0   \n",
      "..                                 ...   \n",
      "183                               72.0   \n",
      "184                               41.0   \n",
      "185                              120.0   \n",
      "186                               19.0   \n",
      "187                               42.0   \n",
      "\n",
      "     Public expenditure on education Percentange GDP  \\\n",
      "0                                            6.55284   \n",
      "1                                            5.11041   \n",
      "2                                            5.27695   \n",
      "3                                            8.74569   \n",
      "4                                            5.93098   \n",
      "..                                               ...   \n",
      "183                                          5.82091   \n",
      "184                                          2.25790   \n",
      "185                                          2.12700   \n",
      "186                                          1.22862   \n",
      "187                                          4.43567   \n",
      "\n",
      "     Public health expenditure percentage of GDP 2013  \\\n",
      "0                                            9.573011   \n",
      "1                                            8.998704   \n",
      "2                                           11.466210   \n",
      "3                                           10.623260   \n",
      "4                                           12.885300   \n",
      "..                                                ...   \n",
      "183                                          8.017716   \n",
      "184                                          3.556836   \n",
      "185                                          3.035674   \n",
      "186                                          3.917532   \n",
      "187                                          6.549742   \n",
      "\n",
      "     Pupil-teacher ratio primary school pupils per teacher 2008-2014  \\\n",
      "0                                             9.590637                 \n",
      "1                                            12.303007                 \n",
      "2                                            10.754200                 \n",
      "3                                            12.303007                 \n",
      "4                                            11.502260                 \n",
      "..                                                 ...                 \n",
      "183                                          44.833640                 \n",
      "184                                          62.427630                 \n",
      "185                                          40.931300                 \n",
      "186                                          80.115760                 \n",
      "187                                          38.755240                 \n",
      "\n",
      "     Renewable sources percentage of total 2012  \\\n",
      "0                                     47.752676   \n",
      "1                                      4.632202   \n",
      "2                                     49.659398   \n",
      "3                                     26.767245   \n",
      "4                                      6.671366   \n",
      "..                                          ...   \n",
      "183                                   53.544693   \n",
      "184                                   88.289148   \n",
      "185                                   78.271531   \n",
      "186                                   80.467360   \n",
      "187                                   26.755224   \n",
      "\n",
      "     Research and development expenditure  2005-2012  \\\n",
      "0                                           1.654740   \n",
      "1                                           2.385620   \n",
      "2                                           2.870460   \n",
      "3                                           2.984160   \n",
      "4                                           2.156760   \n",
      "..                                               ...   \n",
      "183                                         0.121260   \n",
      "184                                         0.612717   \n",
      "185                                         0.226783   \n",
      "186                                         0.253410   \n",
      "187                                         0.088957   \n",
      "\n",
      "     Share of seats in parliament percentage held by womand 2014  \\\n",
      "0                                            39.644970             \n",
      "1                                            30.530973             \n",
      "2                                            28.455285             \n",
      "3                                            37.988827             \n",
      "4                                            36.888889             \n",
      "..                                                 ...             \n",
      "183                                          34.931507             \n",
      "184                                          14.893617             \n",
      "185                                          22.000000             \n",
      "186                                          12.500000             \n",
      "187                                          13.274336             \n",
      "\n",
      "     Taxes on income profit and capital gain 205 2013  \\\n",
      "0                                           31.798391   \n",
      "1                                           65.333748   \n",
      "2                                           22.673299   \n",
      "3                                           39.677938   \n",
      "4                                           23.533104   \n",
      "..                                                ...   \n",
      "183                                         19.855360   \n",
      "184                                         27.618325   \n",
      "185                                         17.402965   \n",
      "186                                          6.902223   \n",
      "187                                         11.558007   \n",
      "\n",
      "     Total tax revenue of GDP 2005-2013  Under-five Mortality 2013 thousands  \n",
      "0                             27.288097                                  2.8  \n",
      "1                             21.361426                                  4.0  \n",
      "2                              9.759124                                  4.2  \n",
      "3                             33.395651                                  3.5  \n",
      "4                             19.724059                                  4.0  \n",
      "..                                  ...                                  ...  \n",
      "183                           11.006974                                 82.9  \n",
      "184                           15.978897                                147.5  \n",
      "185                           13.265781                                 49.9  \n",
      "186                            9.455153                                139.2  \n",
      "187                           11.337822                                104.2  \n",
      "\n",
      "[188 rows x 41 columns]\n"
     ]
    }
   ],
   "source": [
    "df = load_csv(\"world_indices.csv\")\n",
    "print(df)"
   ]
  },
  {
   "cell_type": "code",
   "execution_count": 12,
   "metadata": {},
   "outputs": [
    {
     "data": {
      "text/plain": [
       "array(['Id', 'country_id', 'Human Development Index HDI-2014',\n",
       "       'Gini coefficient 2005-2013',\n",
       "       'Adolescent birth rate 15-19 per 100k 20102015',\n",
       "       'Carbon dioxide emissionsAverage annual growth',\n",
       "       'Carbon dioxide emissions per capita 2011 Tones',\n",
       "       'Change forest percentable 1900 to 2012',\n",
       "       'Consumer price index 2013',\n",
       "       'Domestic food price level 2009 2014 index',\n",
       "       'Domestic food price level 2009-2014 volitility index',\n",
       "       'Electrification rate or population',\n",
       "       'Foreign direct investment net inflows percentage GDP 2013',\n",
       "       'Fossil fuels percentage of total 2012',\n",
       "       'Gender Inequality Index 2014',\n",
       "       'General government final consumption expenditure - Perce of GDP 2005-2013',\n",
       "       'Gross domestic product GDP 2013',\n",
       "       'Gross domestic product GDP percapta',\n",
       "       'Gross national income GNI per capita - 2011  Dollars',\n",
       "       'Homicide rate per 100k people 2008-2012',\n",
       "       'Infant Mortality 2013 per thousands',\n",
       "       'International inbound tourists thausands 2013',\n",
       "       'Internet users percentage of population 2014',\n",
       "       'Intimate or nonintimate partner violence ever experienced 2001-2011',\n",
       "       'Life expectancy at birth- years',\n",
       "       'Maternal mortality ratio deaths per 100 live births 2013',\n",
       "       'Mean years of schooling - Years',\n",
       "       'Net migration rate per 1k people 2010-2015',\n",
       "       'Physicians per 10k people',\n",
       "       'Population living on degraded land Percentage 2010',\n",
       "       'Primary school dropout rate 2008-2014',\n",
       "       'Prison population per 100k people',\n",
       "       'Public expenditure on education Percentange GDP',\n",
       "       'Public health expenditure percentage of GDP 2013',\n",
       "       'Pupil-teacher ratio primary school pupils per teacher 2008-2014',\n",
       "       'Renewable sources percentage of total 2012',\n",
       "       'Research and development expenditure  2005-2012',\n",
       "       'Share of seats in parliament percentage held by womand 2014',\n",
       "       'Taxes on income profit and capital gain 205 2013',\n",
       "       'Total tax revenue of GDP 2005-2013',\n",
       "       'Under-five Mortality 2013 thousands'], dtype=object)"
      ]
     },
     "execution_count": 12,
     "metadata": {},
     "output_type": "execute_result"
    }
   ],
   "source": [
    "df.columns.values"
   ]
  },
  {
   "cell_type": "code",
   "execution_count": 13,
   "metadata": {},
   "outputs": [
    {
     "data": {
      "text/plain": [
       "<matplotlib.axes._subplots.AxesSubplot at 0x128024700>"
      ]
     },
     "execution_count": 13,
     "metadata": {},
     "output_type": "execute_result"
    },
    {
     "data": {
      "image/png": "[encoded data removed]",
      "text/plain": [
       "<Figure size 432x288 with 1 Axes>"
      ]
     },
     "metadata": {
      "needs_background": "light"
     },
     "output_type": "display_data"
    }
   ],
   "source": [
    "df['Human Development Index HDI-2014'].hist(bins=40)"
   ]
  },
  {
   "cell_type": "code",
   "execution_count": 25,
   "metadata": {},
   "outputs": [],
   "source": [
    "from sklearn.cluster import KMeans\n",
    "import numpy as np\n",
    "X = np.array([[1, 2], [1, 4], [1, 0],\n",
    "              [10, 2], [10, 4], [10, 0]])\n",
    "kmeans = KMeans(n_clusters=2, random_state=0).fit(X)"
   ]
  },
  {
   "cell_type": "code",
   "execution_count": 26,
   "metadata": {},
   "outputs": [
    {
     "data": {
      "text/plain": [
       "array([1, 0], dtype=int32)"
      ]
     },
     "execution_count": 26,
     "metadata": {},
     "output_type": "execute_result"
    }
   ],
   "source": [
    "kmeans.predict([[0, 0], [12, 3]])"
   ]
  },
  {
   "cell_type": "code",
   "execution_count": 34,
   "metadata": {},
   "outputs": [
    {
     "data": {
      "text/plain": [
       "array([[10.,  2.],\n",
       "       [ 1.,  2.]])"
      ]
     },
     "execution_count": 34,
     "metadata": {},
     "output_type": "execute_result"
    }
   ],
   "source": [
    "kmeans.cluster_centers_"
   ]
  },
  {
   "cell_type": "code",
   "execution_count": 35,
   "metadata": {},
   "outputs": [
    {
     "data": {
      "text/plain": [
       "array([1, 1, 1, 0, 0, 0], dtype=int32)"
      ]
     },
     "execution_count": 35,
     "metadata": {},
     "output_type": "execute_result"
    }
   ],
   "source": [
    "kmeans.labels_"
   ]
  },
  {
   "cell_type": "code",
   "execution_count": 29,
   "metadata": {},
   "outputs": [
    {
     "name": "stdout",
     "output_type": "stream",
     "text": [
      "(188, 1)\n"
     ]
    }
   ],
   "source": [
    "x = np.reshape(df['Human Development Index HDI-2014'].to_numpy(),(188,1))\n",
    "y = np.asarray(df[\"country_id\"].values.tolist())\n",
    "\n",
    "print(x.shape)\n",
    "kmeans = KMeans(n_clusters = 5).fit(x)"
   ]
  },
  {
   "cell_type": "code",
   "execution_count": 32,
   "metadata": {},
   "outputs": [
    {
     "data": {
      "text/plain": [
       "array([2, 2, 2, 2, 2, 2, 2, 2, 2, 2, 2, 2, 2, 2, 2, 2, 2, 2, 2, 2, 2, 2,\n",
       "       2, 2, 2, 2, 2, 2, 2, 2, 2, 2, 2, 2, 2, 2, 2, 2, 2, 2, 2, 2, 2, 2,\n",
       "       2, 2, 2, 2, 1, 1, 1, 1, 1, 1, 1, 1, 1, 1, 1, 1, 1, 1, 1, 1, 1, 1,\n",
       "       1, 1, 1, 1, 1, 1, 1, 1, 1, 1, 1, 1, 1, 1, 1, 1, 1, 1, 1, 1, 1, 1,\n",
       "       1, 1, 1, 1, 1, 1, 1, 1, 1, 1, 1, 1, 1, 1, 1, 1, 1, 1, 1, 0, 0, 0,\n",
       "       0, 0, 0, 0, 0, 0, 0, 0, 0, 0, 0, 0, 0, 0, 0, 0, 0, 0, 0, 0, 0, 0,\n",
       "       0, 0, 0, 0, 0, 0, 0, 0, 0, 0, 4, 4, 4, 4, 4, 4, 4, 4, 4, 4, 4, 4,\n",
       "       4, 4, 4, 4, 4, 4, 4, 4, 4, 4, 4, 4, 4, 4, 4, 4, 4, 4, 3, 3, 3, 3,\n",
       "       3, 3, 3, 3, 3, 3, 3, 3, 3, 3, 3, 3], dtype=int32)"
      ]
     },
     "execution_count": 32,
     "metadata": {},
     "output_type": "execute_result"
    }
   ],
   "source": [
    "kmeans"
   ]
  },
  {
   "cell_type": "code",
   "execution_count": null,
   "metadata": {},
   "outputs": [],
   "source": []
  }
 ],
 "metadata": {
  "kernelspec": {
   "display_name": "Python 3",
   "language": "python",
   "name": "python3"
  },
  "language_info": {
   "codemirror_mode": {
    "name": "ipython",
    "version": 3
   },
   "file_extension": ".py",
   "mimetype": "text/x-python",
   "name": "python",
   "nbconvert_exporter": "python",
   "pygments_lexer": "ipython3",
   "version": "3.8.1"
  }
 },
 "nbformat": 4,
 "nbformat_minor": 4
}
